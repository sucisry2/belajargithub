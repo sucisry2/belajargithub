{
 "cells": [
  {
   "cell_type": "code",
   "execution_count": null,
   "metadata": {},
   "outputs": [],
   "source": [
    "def third_place(names, scores):\n",
    "    list_score_name = []\n",
    "\n",
    "    for n in range(len(names)):\n",
    "        list_score_name.append((names[n], scores[n]))\n",
    "\n",
    "    first = None\n",
    "    second = None\n",
    "    third = None\n",
    "    \n",
    "    for name, score in list_score_name:\n",
    "        if first is None or score > first[1]:\n",
    "            third = second\n",
    "            second = first\n",
    "            first = (name, score)\n",
    "        elif second is None or score > second[1]:\n",
    "            third = second\n",
    "            second = (name, score)\n",
    "        elif third is None or score > third[1]:\n",
    "            third = (name, score)\n",
    "    print(f'The third winner: {third[0]}')\n",
    "    return\n",
    "\n",
    "names = [\"Andi\", \"Budi\", \"Charlie\", \"Dilan\", \"Echa\"]\n",
    "scores = [80, 90, 95, 100, 85]\n",
    "third_place(names, scores)"
   ]
  }
 ],
 "metadata": {
  "kernelspec": {
   "display_name": "Python 3",
   "language": "python",
   "name": "python3"
  },
  "language_info": {
   "name": "python",
   "version": "3.10.11"
  }
 },
 "nbformat": 4,
 "nbformat_minor": 2
}
