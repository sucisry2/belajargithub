{
 "cells": [
  {
   "cell_type": "code",
   "execution_count": 1,
   "metadata": {},
   "outputs": [],
   "source": [
    "import numpy as np"
   ]
  },
  {
   "cell_type": "code",
   "execution_count": 2,
   "metadata": {},
   "outputs": [
    {
     "name": "stdout",
     "output_type": "stream",
     "text": [
      "The distance is 4.242640687119285\n"
     ]
    }
   ],
   "source": [
    "def distance(point_1, point_2):\n",
    "    point_1 = np.array(point_1)\n",
    "    point_2 = np.array(point_2)\n",
    "    \n",
    "    x = np.sum((point_2 - point_1) ** 2)\n",
    "    distance = np.sqrt(x)\n",
    "    \n",
    "    print( f'The distance is {distance}')\n",
    "\n",
    "    return\n",
    "\n",
    "point_1 = [0, -1]\n",
    "point_2 = [-3, 2]\n",
    "distance(point_1, point_2)"
   ]
  }
 ],
 "metadata": {
  "kernelspec": {
   "display_name": "Python 3",
   "language": "python",
   "name": "python3"
  },
  "language_info": {
   "codemirror_mode": {
    "name": "ipython",
    "version": 3
   },
   "file_extension": ".py",
   "mimetype": "text/x-python",
   "name": "python",
   "nbconvert_exporter": "python",
   "pygments_lexer": "ipython3",
   "version": "3.11.9"
  }
 },
 "nbformat": 4,
 "nbformat_minor": 2
}
