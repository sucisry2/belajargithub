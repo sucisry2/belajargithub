{
 "cells": [
  {
   "cell_type": "code",
   "execution_count": null,
   "metadata": {},
   "outputs": [],
   "source": [
    "import numpy as np"
   ]
  },
  {
   "cell_type": "code",
   "execution_count": null,
   "metadata": {},
   "outputs": [],
   "source": [
    "def distance(point_1, point_2):\n",
    "    point_1 = np.array(point_1)\n",
    "    point_2 = np.array(point_2)\n",
    "    \n",
    "    x = np.sum((point_2 - point_1) ** 2)\n",
    "    distance = np.sqrt(x)\n",
    "    \n",
    "    print( f'The distance is {distance}')\n",
    "\n",
    "    return\n",
    "\n",
    "point_1 = [0, -1]\n",
    "point_2 = [-3, 2]\n",
    "distance(point_1, point_2)"
   ]
  }
 ],
 "metadata": {
  "language_info": {
   "name": "python"
  }
 },
 "nbformat": 4,
 "nbformat_minor": 2
}
